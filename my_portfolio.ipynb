{
 "cells": [
  {
   "cell_type": "markdown",
   "id": "349c2d87-1ea3-41c0-a485-df63cd8e03a8",
   "metadata": {},
   "source": [
    "# packages"
   ]
  },
  {
   "cell_type": "code",
   "execution_count": null,
   "id": "reserved-sellers",
   "metadata": {},
   "outputs": [],
   "source": [
    "\n",
    "from datetime import datetime\n",
    "import matplotlib.pyplot as plt\n",
    "import pandas as pd\n",
    "from pandas.plotting import register_matplotlib_converters\n",
    "register_matplotlib_converters()\n",
    "import MetaTrader5 as mt5\n",
    "import pytz\n",
    "import json"
   ]
  },
  {
   "cell_type": "code",
   "execution_count": null,
   "id": "0293e7ab-fb0c-4f2f-b98a-5967f0b791f9",
   "metadata": {},
   "outputs": [],
   "source": [
    "z = json.load(open('logins.json', 'r'))"
   ]
  },
  {
   "cell_type": "markdown",
   "id": "0b8661dd-2309-4cbf-a3b0-95509f8e1bca",
   "metadata": {},
   "source": [
    "# mt5 experimental portfolio"
   ]
  },
  {
   "cell_type": "markdown",
   "id": "429c1662-51a1-4e02-b355-4d9b57544c65",
   "metadata": {},
   "source": [
    "## connect to MT5"
   ]
  },
  {
   "cell_type": "code",
   "execution_count": null,
   "id": "adc551f9-4304-45fa-8ba0-91c681f10ee6",
   "metadata": {},
   "outputs": [],
   "source": [
    "if not mt5.initialize():\n",
    "    print(\"initialize() failed\")\n",
    "    mt5.shutdown()"
   ]
  },
  {
   "cell_type": "code",
   "execution_count": null,
   "id": "4e63dea4-357d-4e98-bfe7-d1ed8792d265",
   "metadata": {},
   "outputs": [],
   "source": [
    "\n",
    "# request connection status and parameters\n",
    "print(mt5.terminal_info())\n",
    "# get data on MetaTrader 5 version\n",
    "print(mt5.version())"
   ]
  },
  {
   "cell_type": "code",
   "execution_count": null,
   "id": "ab75f019-456c-43ad-9cd2-38a518369154",
   "metadata": {},
   "outputs": [],
   "source": [
    "\n",
    "# login to my account and print account info\n",
    "account=z[0]['account_number']\n",
    "server = z[0]['server']\n",
    "password = z[0]['password']\n",
    "authorized=mt5.login(login = account,server = server, password=password)\n",
    "if authorized:\n",
    "\t# display trading account data in the form of a list\n",
    "\tprint(\"Show account_info()._asdict():\")\n",
    "\taccount_info_dict = mt5.account_info()._asdict()\n",
    "\tfor prop in account_info_dict:\n",
    "\t\tprint(\"  {}={}\".format(prop, account_info_dict[prop]))\n",
    "else:\n",
    "\tprint(\"failed to connect at account #{}, error code: {}\".format(account, mt5.last_error()))\n",
    "\n",
    "# get number of all financial instruments in the terminal\n",
    "symbols_nr = mt5.symbols_total()\n",
    "print(f'total symbols {symbols_nr}')\n"
   ]
  },
  {
   "cell_type": "code",
   "execution_count": null,
   "id": "363bf60e-ae93-42b7-ab34-a32161df0017",
   "metadata": {},
   "outputs": [],
   "source": [
    "# check the presence of active orders\n",
    "orders=mt5.orders_total()\n",
    "if orders>0:\n",
    "    print(\"Total orders=\",orders)\n",
    "else:\n",
    "    print(\"Orders not found\")\n",
    " \n"
   ]
  },
  {
   "cell_type": "code",
   "execution_count": null,
   "id": "92d1e2cb-ec1b-4375-876c-89abe2beb358",
   "metadata": {},
   "outputs": [],
   "source": [
    "# check the presence of open positions\n",
    "positions_total=mt5.positions_total()\n",
    "if positions_total>0:\n",
    "    print(\"Total positions=\",positions_total)\n",
    "else:\n",
    "    print(\"Positions not found\")"
   ]
  },
  {
   "cell_type": "code",
   "execution_count": null,
   "id": "dbdd156e-67e4-46d2-9e61-0b66ecb32125",
   "metadata": {},
   "outputs": [],
   "source": [
    "\n",
    "positions=mt5.positions_get()\n",
    "if positions==None:\n",
    "    print(\"No positions, error code={}\".format(mt5.last_error()))\n",
    "elif len(positions)>0:\n",
    "    print(\"Total positions =\",len(positions))\n",
    "    # display all open positions\n",
    "    #for position in positions:\n",
    "    #    print(position)"
   ]
  },
  {
   "cell_type": "markdown",
   "id": "de4318e2-acd0-41a4-88cf-38763df36aae",
   "metadata": {},
   "source": [
    "## open positions"
   ]
  },
  {
   "cell_type": "code",
   "execution_count": null,
   "id": "08ff7903-a6e5-4b2b-824b-e67dfc09801c",
   "metadata": {},
   "outputs": [],
   "source": [
    "# display these positions as a table using pandas.DataFrame\n",
    "df_positions=pd.DataFrame(list(positions),columns=positions[0]._asdict().keys())\n",
    "df_positions['time'] = pd.to_datetime(df_positions['time'], unit='s')\n",
    "df_positions.drop(['time_update', 'time_msc', 'time_update_msc', 'external_id'], axis=1, inplace=True)\n",
    "df_positions"
   ]
  },
  {
   "cell_type": "code",
   "execution_count": null,
   "id": "62b32ffb-608d-46f6-a2b3-b17ebee3ae7b",
   "metadata": {},
   "outputs": [],
   "source": [
    "# get the number of orders in history\n",
    "from_date=datetime(2020,1,1)\n",
    "to_date=datetime.now()\n",
    "history_orders=mt5.history_orders_total(from_date, datetime.now())\n",
    "if history_orders>0:\n",
    "    print(\"Total history orders=\",history_orders)\n",
    "else:\n",
    "    print(\"Orders not found in history\")"
   ]
  },
  {
   "cell_type": "code",
   "execution_count": null,
   "id": "d8232d2c-1601-4f18-bcb4-f56ffb68ee9a",
   "metadata": {},
   "outputs": [],
   "source": [
    "position_history_orders=mt5.history_orders_get(from_date, datetime.now())\n",
    "if position_history_orders==None:\n",
    "    #print(\"No orders with position #{}\".format(position_id))\n",
    "    print(\"error code =\",mt5.last_error())\n",
    "elif len(position_history_orders)>0:\n",
    "    #print(\"Total history orders on position #{}: {}\".format(position_id,len(position_history_orders)))\n",
    "    # display all historical orders having a specified position ticket\n",
    "    #for position_order in position_history_orders:        \n",
    "    #    print(position_order)\n",
    "    #print()\n",
    "    # display these orders as a table using pandas.DataFrame\n",
    "    df=pd.DataFrame(list(position_history_orders),columns=position_history_orders[0]._asdict().keys())\n",
    "    df.drop(['time_expiration','type_time','state','position_by_id','reason','volume_current','price_stoplimit','sl','tp'], axis=1, inplace=True)\n",
    "    df['time_setup'] = pd.to_datetime(df['time_setup'], unit='s')\n",
    "    df['time_done'] = pd.to_datetime(df['time_done'], unit='s')"
   ]
  },
  {
   "cell_type": "markdown",
   "id": "9c9f873c-3332-4ec7-8bf8-1bdeb0e2b216",
   "metadata": {},
   "source": [
    "## history orders"
   ]
  },
  {
   "cell_type": "code",
   "execution_count": null,
   "id": "1a60bd8e-8f3a-4359-9231-b71e5873234e",
   "metadata": {},
   "outputs": [],
   "source": [
    "df"
   ]
  },
  {
   "cell_type": "code",
   "execution_count": null,
   "id": "567a9e9e-52f1-4728-87c6-e512ce621f5b",
   "metadata": {},
   "outputs": [],
   "source": [
    "position_history_orders=mt5.history_orders_get()\n"
   ]
  },
  {
   "cell_type": "code",
   "execution_count": null,
   "id": "e3745fb9-bbf8-4982-bfec-606e75b67b06",
   "metadata": {},
   "outputs": [],
   "source": [
    "from_date=datetime(2020,1,1)\n",
    "to_date=datetime.now()\n",
    "deals=mt5.history_deals_total(from_date, to_date)\n",
    "if deals>0:\n",
    "    print(\"Total deals=\",deals)\n",
    "else:\n",
    "    print(\"Deals not found in history\")"
   ]
  },
  {
   "cell_type": "code",
   "execution_count": null,
   "id": "97ebda4e-1811-47a7-bccd-1c87751d50e7",
   "metadata": {},
   "outputs": [],
   "source": [
    "# get deals for symbols whose names contain neither \"EUR\" nor \"GBP\"\n",
    "deals = mt5.history_deals_get(from_date, to_date)\n",
    "if deals == None:\n",
    "    print(\"No deals, error code={}\".format(mt5.last_error()))\n",
    "elif len(deals) > 0:\n",
    "    print(\"history_deals_get(from_date, to_date, group=\\\"*,!*EUR*,!*GBP*\\\") =\", len(deals))\n",
    "    # display all obtained deals 'as is'\n",
    "    #for deal in deals:\n",
    "    #    print(\"  \",deal)\n",
    "    #print()\n",
    "    # display these deals as a table using pandas.DataFrame\n",
    "    df=pd.DataFrame(list(deals),columns=deals[0]._asdict().keys())\n",
    "    df['time'] = pd.to_datetime(df['time'], unit='s')"
   ]
  },
  {
   "cell_type": "markdown",
   "id": "198f981e-171b-4608-b7cb-def66443acbb",
   "metadata": {},
   "source": [
    "## history deals"
   ]
  },
  {
   "cell_type": "code",
   "execution_count": null,
   "id": "14e40c27-ef0a-4a81-b558-3d5f71e75bed",
   "metadata": {},
   "outputs": [],
   "source": [
    "df"
   ]
  },
  {
   "cell_type": "markdown",
   "id": "9ad05280-81e4-44ed-ba73-2d2fb9fd541f",
   "metadata": {},
   "source": [
    "## stats"
   ]
  },
  {
   "cell_type": "code",
   "execution_count": null,
   "id": "666ee2bb-22dc-4b24-b757-98d302f25ac8",
   "metadata": {},
   "outputs": [],
   "source": [
    "df.profit.sum() # all transactions, including my inputs extraordinary payments and closed positions"
   ]
  },
  {
   "cell_type": "code",
   "execution_count": null,
   "id": "f657025f-4217-4e2a-8ec4-3e66a436b20f",
   "metadata": {},
   "outputs": [],
   "source": [
    "df.commission.sum() # fees paid on any transactions, positions open or closed"
   ]
  },
  {
   "cell_type": "code",
   "execution_count": null,
   "id": "a5f38e1b-5eb8-4d6f-a2eb-b88cdbb0e480",
   "metadata": {},
   "outputs": [],
   "source": [
    "df_positions.profit.sum() # current profit on open positions"
   ]
  },
  {
   "cell_type": "code",
   "execution_count": null,
   "id": "c1cd73ea-2ba6-4ca5-9e11-bf2ce42ebd21",
   "metadata": {},
   "outputs": [],
   "source": [
    "current_state = df.profit.sum() + df.commission.sum() + df_positions.profit.sum()\n",
    "current_state # overal state if I would now close all positions"
   ]
  },
  {
   "cell_type": "code",
   "execution_count": null,
   "id": "e2399380-829c-4876-a10e-a2e94cf74201",
   "metadata": {},
   "outputs": [],
   "source": [
    "my_inputs = df.loc[df['comment'] == 'Transfer from CW|2208917', 'profit'].sum()\n",
    "my_inputs # my inputs"
   ]
  },
  {
   "cell_type": "code",
   "execution_count": null,
   "id": "f0a1db29-01ce-4578-84b7-0240cebd6b42",
   "metadata": {},
   "outputs": [],
   "source": [
    "profit = current_state - my_inputs\n",
    "profit"
   ]
  },
  {
   "cell_type": "code",
   "execution_count": null,
   "id": "cc5c9b5f-f2d2-46e1-bd8b-9c0712486006",
   "metadata": {},
   "outputs": [],
   "source": [
    "profit_perc = round(profit/my_inputs*100, 2)\n",
    "f'{profit_perc} %'"
   ]
  },
  {
   "cell_type": "markdown",
   "id": "10905d6f-7946-40db-bc28-c648cb0754ac",
   "metadata": {},
   "source": [
    "# bitcoins"
   ]
  },
  {
   "cell_type": "code",
   "execution_count": null,
   "id": "52de3968-f632-4000-833a-7aedd88a7d04",
   "metadata": {},
   "outputs": [],
   "source": [
    "btc_transactions = pd.read_csv('btc_transactions.csv')\n",
    "btc_transactions"
   ]
  },
  {
   "cell_type": "code",
   "execution_count": null,
   "id": "268b806e-0f37-4b9a-96d1-8871d2b70ce7",
   "metadata": {},
   "outputs": [],
   "source": [
    "# login to my account and print account info\n",
    "account=z[1]['account_number']\n",
    "server = z[1]['server']\n",
    "password = z[1]['password']\n",
    "authorized=mt5.login(login = account,server = server, password=password)\n",
    "if authorized:\n",
    "\t# display trading account data in the form of a list\n",
    "\tprint(\"Show account_info()._asdict():\")\n",
    "\taccount_info_dict = mt5.account_info()._asdict()\n",
    "\tfor prop in account_info_dict:\n",
    "\t\tprint(\"  {}={}\".format(prop, account_info_dict[prop]))\n",
    "else:\n",
    "\tprint(\"failed to connect at account #{}, error code: {}\".format(account, mt5.last_error()))\n",
    "\n",
    "# get number of all financial instruments in the terminal\n",
    "symbols_nr = mt5.symbols_total()\n",
    "print(f'total symbols {symbols_nr}')"
   ]
  },
  {
   "cell_type": "code",
   "execution_count": null,
   "id": "e3453f99-9ad2-4c72-bc34-a3c8f9331201",
   "metadata": {},
   "outputs": [],
   "source": [
    "tick = mt5.symbol_info_tick(\"BTCEUR\")\n",
    "tick"
   ]
  },
  {
   "cell_type": "code",
   "execution_count": null,
   "id": "33599723-b79e-4592-bc9d-155a2e83ae41",
   "metadata": {},
   "outputs": [],
   "source": [
    "s = pd.Series(tick._asdict())\n",
    "s['time'] = pd.to_datetime(s['time'], unit='s')\n",
    "s"
   ]
  },
  {
   "cell_type": "markdown",
   "id": "d306e1c0-e618-48f0-b19c-f0ef99437d6d",
   "metadata": {},
   "source": [
    "## stats"
   ]
  },
  {
   "cell_type": "code",
   "execution_count": null,
   "id": "0bdd367c-552c-43c3-8a9d-3b4b1bfeb2df",
   "metadata": {},
   "outputs": [],
   "source": [
    "current_state_btc = btc_transactions['total BTC'].sum() * s['bid']\n",
    "current_state_btc"
   ]
  },
  {
   "cell_type": "code",
   "execution_count": null,
   "id": "0cb8a95a-a532-452d-838e-29e4370e5021",
   "metadata": {},
   "outputs": [],
   "source": [
    "profit_perc_btc = round((current_state_btc - btc_transactions['amount EUR'].sum())/btc_transactions['amount EUR'].sum() * 100, 2)\n",
    "f'{profit_perc_btc} %'"
   ]
  },
  {
   "cell_type": "code",
   "execution_count": null,
   "id": "8e3b896c-fafe-42cc-a4c6-9247a90cc05b",
   "metadata": {},
   "outputs": [],
   "source": [
    "# with open('logins.json', 'w') as fp:\n",
    "    # json.dump(z, fp)"
   ]
  }
 ],
 "metadata": {
  "kernelspec": {
   "display_name": "Python 3 (ipykernel)",
   "language": "python",
   "name": "python3"
  },
  "language_info": {
   "codemirror_mode": {
    "name": "ipython",
    "version": 3
   },
   "file_extension": ".py",
   "mimetype": "text/x-python",
   "name": "python",
   "nbconvert_exporter": "python",
   "pygments_lexer": "ipython3",
   "version": "3.7.11"
  }
 },
 "nbformat": 4,
 "nbformat_minor": 5
}
